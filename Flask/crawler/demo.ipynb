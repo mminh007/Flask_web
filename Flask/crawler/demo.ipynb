{
 "cells": [
  {
   "cell_type": "code",
   "execution_count": 10,
   "metadata": {},
   "outputs": [],
   "source": [
    "# test demo\n",
    "#<img src=\"{{url_for('show_img')}}\">\n",
    "\n",
    "# import os\n",
    "\n",
    "# dependencies_dir = \"./dependencies\"\n",
    "# flask_dir = \"C://Users/tuanm/OneDrive/projects/Flask\"\n",
    "# os.makedirs(dependencies_dir, exist_ok=True)"
   ]
  },
  {
   "cell_type": "code",
   "execution_count": 2,
   "metadata": {},
   "outputs": [
    {
     "name": "stdout",
     "output_type": "stream",
     "text": [
      "Writing ./dependencies/conda.yaml\n"
     ]
    }
   ],
   "source": [
    "%%writefile {dependencies_dir}/conda.yaml\n",
    "name: torch-env\n",
    "channels:\n",
    "  - conda-forge\n",
    "dependencies:\n",
    "  - python=3.10.14\n",
    "  - numpy=1.21.2\n",
    "  - pip=23.3.1\n",
    "  - pip:\n",
    "    - tqdm>=4.59,<4.60\n",
    "    - matplotlib\n",
    "    - numpy\n",
    "    - torch torchvision torchaudio --index-url https://download.pytorch.org/whl/cu118\n",
    "   "
   ]
  },
  {
   "cell_type": "code",
   "execution_count": 11,
   "metadata": {},
   "outputs": [
    {
     "name": "stdout",
     "output_type": "stream",
     "text": [
      "Writing C://Users/tuanm/OneDrive/projects/Flask/requirements.txt\n"
     ]
    }
   ],
   "source": [
    "%%writefile {flask_dir}/requirements.txt\n",
    "selenium\n",
    "timm\n",
    "transformers\n",
    "accelerate\n",
    "pillow\n",
    "flask"
   ]
  }
 ],
 "metadata": {
  "kernelspec": {
   "display_name": "pytorch",
   "language": "python",
   "name": "python3"
  },
  "language_info": {
   "codemirror_mode": {
    "name": "ipython",
    "version": 3
   },
   "file_extension": ".py",
   "mimetype": "text/x-python",
   "name": "python",
   "nbconvert_exporter": "python",
   "pygments_lexer": "ipython3",
   "version": "3.10.14"
  }
 },
 "nbformat": 4,
 "nbformat_minor": 2
}
