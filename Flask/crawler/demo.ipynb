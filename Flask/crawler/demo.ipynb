{
 "cells": [
  {
   "cell_type": "code",
   "execution_count": 1,
   "metadata": {},
   "outputs": [],
   "source": [
    "from selenium import webdriver\n",
    "from selenium.webdriver.common.by import By\n",
    "from selenium.common.exceptions import NoSuchElementException\n",
    "import json"
   ]
  },
  {
   "cell_type": "code",
   "execution_count": null,
   "metadata": {},
   "outputs": [],
   "source": [
    "# test demo\n",
    "#<img src=\"{{url_for('show_img')}}\">"
   ]
  },
  {
   "cell_type": "code",
   "execution_count": 12,
   "metadata": {},
   "outputs": [],
   "source": [
    "def get_data(url = \"https://www.lix.polytechnique.fr/~hermann/conf.php#\"):\n",
    "    driver = webdriver.Chrome()\n",
    "    driver.get(url)\n",
    "\n",
    "    # moi table co thiet ke khac nhau nen phai crawl tung table 1\n",
    "    tables = driver.find_elements(By.CSS_SELECTOR, 'table.conference')\n",
    "\n",
    "    tbodys = []\n",
    "    for t in tables:\n",
    "        tbody = t.find_element(By.CSS_SELECTOR, \"tbody\")\n",
    "        tbodys.append(tbody)\n",
    "\n",
    "    data_0 = []\n",
    "    tr_0 = tbodys[0].find_elements(By.CSS_SELECTOR, \"tr\")\n",
    "\n",
    "    for t in tr_0:\n",
    "        td = [item.text for item in t.find_elements(By.CSS_SELECTOR, \"td\")]\n",
    "        dictionary = {\n",
    "            \"Conference\": td[0],\n",
    "            \"City, Country\": td[1],\n",
    "            \"Deadline\": td[2],\n",
    "            \"Date\": td[3],\n",
    "            \"Notification\": td[4],\n",
    "            \"Submission\": td[5],\n",
    "        }\n",
    "        data_0.append(dictionary)\n",
    "\n",
    "    data_1 = []\n",
    "    tr_1 = tbodys[1].find_elements(By.CSS_SELECTOR, \"tr\")\n",
    "\n",
    "    for t in tr_1:\n",
    "        td = [item.text for item in t.find_elements(By.CSS_SELECTOR, \"td\")]\n",
    "        dictionary = {\n",
    "            \"Conference\": td[0],\n",
    "            \"City, Country\": td[1],\n",
    "            \"Date\": td[2],\n",
    "            \"Remark\": td[3],\n",
    "        }\n",
    "        data_1.append(dictionary)\n",
    "\n",
    "    data_2 = []\n",
    "    tr_2 = tbodys[2].find_elements(By.CSS_SELECTOR, \"tr\")\n",
    "\n",
    "    for t in tr_2:\n",
    "        td = [item.text for item in t.find_elements(By.CSS_SELECTOR, \"td\")]\n",
    "        dictionary = {\n",
    "            \"Conference\": td[0],\n",
    "            \"City, Country\": td[1],\n",
    "            \"Date\": td[2],\n",
    "            \"Notification\": td[3],\n",
    "            \"Final version\": td[4],\n",
    "            \"Early register\": td[5],\n",
    "            \"Remarks\": td[6],\n",
    "        }\n",
    "        data_2.append(dictionary)\n",
    "\n",
    "    data_3 = []\n",
    "    tr_3 = tbodys[3].find_elements(By.CSS_SELECTOR, \"tr\")\n",
    "\n",
    "    for t in tr_3:\n",
    "        td = [item.text for item in t.find_elements(By.CSS_SELECTOR, \"td\")]\n",
    "        dictionary = {\n",
    "            \"Conference\": td[0],\n",
    "            \"Year\": td[1],\n",
    "            \"City, Country\": td[2],\n",
    "            \"Starting date\": td[3],\n",
    "            \"Ending date\": td[4],\n",
    "            \"Remark\": td[5],\n",
    "        }\n",
    "        data_3.append(dictionary)\n",
    "\n",
    "    #         pass\n",
    "    driver.close()\n"
   ]
  },
  {
   "cell_type": "code",
   "execution_count": 20,
   "metadata": {},
   "outputs": [],
   "source": [
    "import json\n",
    "\n",
    "json_ob = json.dumps(data_3, indent=4)\n",
    "\n",
    "\n",
    "with open(\"planned_conference.json\", \"w\") as f:\n",
    "\tf.write(json_ob)\n",
    "\t"
   ]
  },
  {
   "cell_type": "code",
   "execution_count": 21,
   "metadata": {},
   "outputs": [],
   "source": [
    "js_0 = json.dumps(data_0, indent=4)\n",
    "with open(\"Dealine_ahead.json\", \"w\") as f:\n",
    "\tf.write(js_0)\n",
    "\n",
    "\n",
    "js_1 = json.dumps(data_1, indent=4)\n",
    "with open(\"Running_conferences.json\", \"w\") as f:\n",
    "\tf.write(js_1)\n",
    "\n",
    "\n",
    "js_2 = json.dumps(data_2, indent=4)\n",
    "with open(\"Future_conferences.json\", \"w\") as f:\n",
    "\tf.write(js_2)"
   ]
  }
 ],
 "metadata": {
  "kernelspec": {
   "display_name": "pytorch",
   "language": "python",
   "name": "python3"
  },
  "language_info": {
   "codemirror_mode": {
    "name": "ipython",
    "version": 3
   },
   "file_extension": ".py",
   "mimetype": "text/x-python",
   "name": "python",
   "nbconvert_exporter": "python",
   "pygments_lexer": "ipython3",
   "version": "3.10.6"
  }
 },
 "nbformat": 4,
 "nbformat_minor": 2
}
